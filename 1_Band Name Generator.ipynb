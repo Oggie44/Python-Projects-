{
 "cells": [
  {
   "cell_type": "code",
   "execution_count": null,
   "id": "9d8c0997",
   "metadata": {},
   "outputs": [],
   "source": [
    "#Band Name Generator\n",
    "\n",
    "user_city = input(\"What city did you grow up in?\\n\")\n",
    "user_pet = input(\"What was the name of your first pet\\n\")\n",
    "print(\"The name of your band could be: \" + user_city + \" \" + user_pet)"
   ]
  }
 ],
 "metadata": {
  "kernelspec": {
   "display_name": "Python 3 (ipykernel)",
   "language": "python",
   "name": "python3"
  },
  "language_info": {
   "codemirror_mode": {
    "name": "ipython",
    "version": 3
   },
   "file_extension": ".py",
   "mimetype": "text/x-python",
   "name": "python",
   "nbconvert_exporter": "python",
   "pygments_lexer": "ipython3",
   "version": "3.9.7"
  }
 },
 "nbformat": 4,
 "nbformat_minor": 5
}
